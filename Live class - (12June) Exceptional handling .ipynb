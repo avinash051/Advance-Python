{
 "cells": [
  {
   "cell_type": "code",
   "execution_count": 1,
   "id": "a7c9a870",
   "metadata": {},
   "outputs": [
    {
     "name": "stdout",
     "output_type": "stream",
     "text": [
      "30\n"
     ]
    }
   ],
   "source": [
    "a = 10\n",
    "b =20\n",
    "c = a+b\n",
    "print(c)"
   ]
  },
  {
   "cell_type": "code",
   "execution_count": 2,
   "id": "a002a7f2",
   "metadata": {},
   "outputs": [
    {
     "ename": "SyntaxError",
     "evalue": "unexpected EOF while parsing (1863279263.py, line 4)",
     "output_type": "error",
     "traceback": [
      "\u001b[0;36m  File \u001b[0;32m\"/var/folders/hs/tkrh5wv51hl9c769tvsw6bc00000gn/T/ipykernel_2820/1863279263.py\"\u001b[0;36m, line \u001b[0;32m4\u001b[0m\n\u001b[0;31m    print(c\u001b[0m\n\u001b[0m           ^\u001b[0m\n\u001b[0;31mSyntaxError\u001b[0m\u001b[0;31m:\u001b[0m unexpected EOF while parsing\n"
     ]
    }
   ],
   "source": [
    "a = 10\n",
    "b = 20\n",
    "c = a+b\n",
    "print(c"
   ]
  },
  {
   "cell_type": "code",
   "execution_count": 4,
   "id": "7aa7cca6",
   "metadata": {},
   "outputs": [
    {
     "ename": "TypeError",
     "evalue": "unsupported operand type(s) for +: 'int' and 'str'",
     "output_type": "error",
     "traceback": [
      "\u001b[0;31m---------------------------------------------------------------------------\u001b[0m",
      "\u001b[0;31mTypeError\u001b[0m                                 Traceback (most recent call last)",
      "\u001b[0;32m/var/folders/hs/tkrh5wv51hl9c769tvsw6bc00000gn/T/ipykernel_2820/3120121306.py\u001b[0m in \u001b[0;36m<module>\u001b[0;34m\u001b[0m\n\u001b[1;32m      1\u001b[0m \u001b[0ma\u001b[0m\u001b[0;34m,\u001b[0m\u001b[0mb\u001b[0m \u001b[0;34m=\u001b[0m \u001b[0;36m10\u001b[0m\u001b[0;34m,\u001b[0m\u001b[0;34m\"s\"\u001b[0m\u001b[0;34m\u001b[0m\u001b[0;34m\u001b[0m\u001b[0m\n\u001b[0;32m----> 2\u001b[0;31m \u001b[0mc\u001b[0m \u001b[0;34m=\u001b[0m\u001b[0ma\u001b[0m\u001b[0;34m+\u001b[0m\u001b[0mb\u001b[0m\u001b[0;34m\u001b[0m\u001b[0;34m\u001b[0m\u001b[0m\n\u001b[0m",
      "\u001b[0;31mTypeError\u001b[0m: unsupported operand type(s) for +: 'int' and 'str'"
     ]
    }
   ],
   "source": [
    "a,b = 10,\"s\"\n",
    "c =a+b"
   ]
  },
  {
   "cell_type": "code",
   "execution_count": 2,
   "id": "e6e9a02e",
   "metadata": {},
   "outputs": [
    {
     "name": "stdout",
     "output_type": "stream",
     "text": [
      "enter first number 1\n",
      "enter 2nd number 2\n",
      "0.5\n",
      "2\n"
     ]
    }
   ],
   "source": [
    "a = int(input(\"enter first number \"))\n",
    "b = int(input(\"enter 2nd number \"))\n",
    "c = a/b\n",
    "print(c)\n",
    "d =a *b\n",
    "print(d)"
   ]
  },
  {
   "cell_type": "markdown",
   "id": "79f3b827",
   "metadata": {},
   "source": [
    "why exceptional handling required - (exception is happen on runtimme,and called as exceptional handling)\n",
    " 1. my further code is usable\n",
    " 2. for better understanding for user.   \n",
    " \n",
    " 1.try\n",
    " 2.except\n",
    " 3.else\n",
    " 4.raise\n",
    " 5.finally"
   ]
  },
  {
   "cell_type": "code",
   "execution_count": 12,
   "id": "89f7d162",
   "metadata": {},
   "outputs": [
    {
     "name": "stdout",
     "output_type": "stream",
     "text": [
      "enter first number 2\n",
      "enter 2nd number 1\n",
      "2.0\n"
     ]
    }
   ],
   "source": [
    "a = int(input(\"enter first number \"))\n",
    "b = int(input(\"enter 2nd number \"))\n",
    "try:\n",
    "    c=a/b\n",
    "    print(c)\n",
    "except:\n",
    "    print(\"wrong Syntax\")\n",
    "    "
   ]
  },
  {
   "cell_type": "code",
   "execution_count": 19,
   "id": "3757831b",
   "metadata": {},
   "outputs": [
    {
     "name": "stdout",
     "output_type": "stream",
     "text": [
      "Zero Division error happend and handled\n"
     ]
    }
   ],
   "source": [
    "marks = 1000\n",
    "try:\n",
    "    \n",
    "    b = marks/0\n",
    "    print(b)\n",
    "    \n",
    "    \n",
    "except ZeroDivisionError:\n",
    "    print(\"Zero Division error happend and handled\")\n",
    "except NameError:\n",
    "    print(\"name error happend and handled \")\n",
    "     "
   ]
  },
  {
   "cell_type": "code",
   "execution_count": 20,
   "id": "a28df498",
   "metadata": {},
   "outputs": [
    {
     "name": "stdout",
     "output_type": "stream",
     "text": [
      "can only concatenate str (not \"int\") to str\n"
     ]
    }
   ],
   "source": [
    "try:\n",
    "    name = 'Bob'\n",
    "    name += 5\n",
    "    \n",
    "except NameError as ne:\n",
    "    # Code to handle NameError\n",
    "    print(ne)\n",
    "    \n",
    "except TypeError as te:\n",
    "    # Code to handle TypeError\n",
    "    print(te)"
   ]
  },
  {
   "cell_type": "code",
   "execution_count": null,
   "id": "c1ba0df3",
   "metadata": {},
   "outputs": [],
   "source": []
  },
  {
   "cell_type": "code",
   "execution_count": null,
   "id": "087f173c",
   "metadata": {},
   "outputs": [],
   "source": []
  },
  {
   "cell_type": "code",
   "execution_count": null,
   "id": "15a1d7bc",
   "metadata": {},
   "outputs": [],
   "source": []
  },
  {
   "cell_type": "code",
   "execution_count": null,
   "id": "eafac510",
   "metadata": {},
   "outputs": [],
   "source": []
  }
 ],
 "metadata": {
  "kernelspec": {
   "display_name": "Python 3 (ipykernel)",
   "language": "python",
   "name": "python3"
  },
  "language_info": {
   "codemirror_mode": {
    "name": "ipython",
    "version": 3
   },
   "file_extension": ".py",
   "mimetype": "text/x-python",
   "name": "python",
   "nbconvert_exporter": "python",
   "pygments_lexer": "ipython3",
   "version": "3.9.7"
  }
 },
 "nbformat": 4,
 "nbformat_minor": 5
}
