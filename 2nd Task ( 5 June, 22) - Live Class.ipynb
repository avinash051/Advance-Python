{
 "cells": [
  {
   "cell_type": "raw",
   "id": "f753c936",
   "metadata": {},
   "source": [
    "task ( 5 June, 22) - TASK"
   ]
  },
  {
   "cell_type": "code",
   "execution_count": null,
   "id": "30919b55",
   "metadata": {},
   "outputs": [],
   "source": [
    "Todays task :\n",
    "    q1 : Try to print a prime number in between 1 to 1000\n",
    "    q2 : Try to write a function which  is equivalent  to print function in python\n",
    "    q3 : Try to write a function which is a replica of list append , extend and pop function \n",
    "    q4 : Try to write a lambda function which can return a concatination of all the string that we will pass\n",
    "    q5 : Try to write a lambda function which can return list of square of all the data between 1-100 \n",
    "    q6 : Try to write a 10 Different different example of lambda function with a choice of your taks \n",
    "    q7 : Try to write a funtion whihc can perform a read operation from .txt file \n",
    "        \n",
    "        shivan@ineuron.ai\n",
    "        sudhashu@ineuron.ai"
   ]
  },
  {
   "cell_type": "code",
   "execution_count": 94,
   "id": "8853269c",
   "metadata": {},
   "outputs": [
    {
     "name": "stdout",
     "output_type": "stream",
     "text": [
      "2 3 5 7 11 13 17 19 23 29 31 37 41 43 47 53 59 61 67 71 73 79 83 89 97 101 103 107 109 113 127 131 137 139 149 151 157 163 167 173 179 181 191 193 197 199 211 223 227 229 233 239 241 251 257 263 269 271 277 281 283 293 307 311 313 317 331 337 347 349 353 359 367 373 379 383 389 397 401 409 419 421 431 433 439 443 449 457 461 463 467 479 487 491 499 503 509 521 523 541 547 557 563 569 571 577 587 593 599 601 607 613 617 619 631 641 643 647 653 659 661 673 677 683 691 701 709 719 727 733 739 743 751 757 761 769 773 787 797 809 811 821 823 827 829 839 853 857 859 863 877 881 883 887 907 911 919 929 937 941 947 953 967 971 977 983 991 997 "
     ]
    }
   ],
   "source": [
    "for num in range(1, 1000):\n",
    "    if num>1:\n",
    "        for i in range(2,num):\n",
    "            if num%i==0:\n",
    "                break\n",
    "        else:\n",
    "            print(num, end =\" \")\n",
    "    \n",
    "      \n",
    "        \n",
    "      "
   ]
  },
  {
   "cell_type": "code",
   "execution_count": 113,
   "id": "9d48a693",
   "metadata": {},
   "outputs": [
    {
     "name": "stdout",
     "output_type": "stream",
     "text": [
      "2 3 5 7 "
     ]
    }
   ],
   "source": [
    "pnum(2,10)"
   ]
  },
  {
   "cell_type": "code",
   "execution_count": 166,
   "id": "8901fb2a",
   "metadata": {},
   "outputs": [],
   "source": [
    "def vprint(*arg):\n",
    "    \"\"\"vprint is function which  is equivalent  to print function in python\"\"\"\n",
    "    actual = list(arg)\n",
    "    for i in actual:\n",
    "        print(i)\n",
    "  "
   ]
  },
  {
   "cell_type": "code",
   "execution_count": 167,
   "id": "3a2616c2",
   "metadata": {},
   "outputs": [
    {
     "name": "stdout",
     "output_type": "stream",
     "text": [
      "avdfd\n",
      "34\n"
     ]
    }
   ],
   "source": [
    "\n",
    "vprint(\"avdfd\")\n",
    "vprint(34)\n"
   ]
  },
  {
   "cell_type": "code",
   "execution_count": 141,
   "id": "8be9b7e4",
   "metadata": {},
   "outputs": [],
   "source": [
    "b = lambda *string : ''.join([str(n) for n in string])\n"
   ]
  },
  {
   "cell_type": "code",
   "execution_count": 142,
   "id": "16e3d1be",
   "metadata": {},
   "outputs": [
    {
     "data": {
      "text/plain": [
       "'avinashalpanaguddu'"
      ]
     },
     "execution_count": 142,
     "metadata": {},
     "output_type": "execute_result"
    }
   ],
   "source": [
    "b(\"avinash\",\"alpana\", \"guddu\")"
   ]
  },
  {
   "cell_type": "code",
   "execution_count": 174,
   "id": "2a78845b",
   "metadata": {},
   "outputs": [],
   "source": [
    "square = lambda : [i**2 for i in range(1,100)]"
   ]
  },
  {
   "cell_type": "code",
   "execution_count": 170,
   "id": "7961d37a",
   "metadata": {},
   "outputs": [
    {
     "data": {
      "text/plain": [
       "[1,\n",
       " 4,\n",
       " 9,\n",
       " 16,\n",
       " 25,\n",
       " 36,\n",
       " 49,\n",
       " 64,\n",
       " 81,\n",
       " 100,\n",
       " 121,\n",
       " 144,\n",
       " 169,\n",
       " 196,\n",
       " 225,\n",
       " 256,\n",
       " 289,\n",
       " 324,\n",
       " 361,\n",
       " 400,\n",
       " 441,\n",
       " 484,\n",
       " 529,\n",
       " 576,\n",
       " 625,\n",
       " 676,\n",
       " 729,\n",
       " 784,\n",
       " 841,\n",
       " 900,\n",
       " 961,\n",
       " 1024,\n",
       " 1089,\n",
       " 1156,\n",
       " 1225,\n",
       " 1296,\n",
       " 1369,\n",
       " 1444,\n",
       " 1521,\n",
       " 1600,\n",
       " 1681,\n",
       " 1764,\n",
       " 1849,\n",
       " 1936,\n",
       " 2025,\n",
       " 2116,\n",
       " 2209,\n",
       " 2304,\n",
       " 2401,\n",
       " 2500,\n",
       " 2601,\n",
       " 2704,\n",
       " 2809,\n",
       " 2916,\n",
       " 3025,\n",
       " 3136,\n",
       " 3249,\n",
       " 3364,\n",
       " 3481,\n",
       " 3600,\n",
       " 3721,\n",
       " 3844,\n",
       " 3969,\n",
       " 4096,\n",
       " 4225,\n",
       " 4356,\n",
       " 4489,\n",
       " 4624,\n",
       " 4761,\n",
       " 4900,\n",
       " 5041,\n",
       " 5184,\n",
       " 5329,\n",
       " 5476,\n",
       " 5625,\n",
       " 5776,\n",
       " 5929,\n",
       " 6084,\n",
       " 6241,\n",
       " 6400,\n",
       " 6561,\n",
       " 6724,\n",
       " 6889,\n",
       " 7056,\n",
       " 7225,\n",
       " 7396,\n",
       " 7569,\n",
       " 7744,\n",
       " 7921,\n",
       " 8100,\n",
       " 8281,\n",
       " 8464,\n",
       " 8649,\n",
       " 8836,\n",
       " 9025,\n",
       " 9216,\n",
       " 9409,\n",
       " 9604,\n",
       " 9801]"
      ]
     },
     "execution_count": 170,
     "metadata": {},
     "output_type": "execute_result"
    }
   ],
   "source": [
    "square()"
   ]
  },
  {
   "cell_type": "code",
   "execution_count": 245,
   "id": "1c63f0c7",
   "metadata": {},
   "outputs": [],
   "source": [
    "text = open(\"avin.txt\", \"r\")"
   ]
  },
  {
   "cell_type": "code",
   "execution_count": 246,
   "id": "c026f95d",
   "metadata": {},
   "outputs": [
    {
     "name": "stdout",
     "output_type": "stream",
     "text": [
      "This Python tutorial helps you learn Python programming from scratch.\n",
      "\n",
      "Python Tutorial\n",
      "If you want to master Python programming quickly, this Python tutorial is for you.\n",
      "\n",
      "The tutorial will take you through the understanding of the Python programming language, help you deeply learn the concepts, and show you how to apply practical programming techniques to your specific challenges.\n",
      "\n",
      "This Python tutorial helps you learn Python programming from scratch.\n",
      "\n",
      "Python Tutorial\n",
      "If you want to master Python programming quickly, this Python tutorial is for you.\n",
      "\n",
      "The tutorial will take you through the understanding of the Python programming language, help you deeply learn the concepts, and show you how to apply practical programming techniques to your specific challenges.\n",
      "\n",
      "This Python tutorial helps you learn Python programming from scratch.\n",
      "\n",
      "Python Tutorial\n",
      "If you want to master Python programming quickly, this Python tutorial is for you.\n",
      "\n",
      "The tutorial will take you through the understanding of the Python programming language, help you deeply learn the concepts, and show you how to apply practical programming techniques to your specific challenges.\n",
      "\n",
      "\n"
     ]
    }
   ],
   "source": [
    "print(text.read())\n"
   ]
  },
  {
   "cell_type": "code",
   "execution_count": 258,
   "id": "eac6b436",
   "metadata": {},
   "outputs": [],
   "source": [
    "b = lambda a,b : a+b"
   ]
  },
  {
   "cell_type": "code",
   "execution_count": 259,
   "id": "98066925",
   "metadata": {},
   "outputs": [
    {
     "data": {
      "text/plain": [
       "6"
      ]
     },
     "execution_count": 259,
     "metadata": {},
     "output_type": "execute_result"
    }
   ],
   "source": [
    "b(2,4)"
   ]
  },
  {
   "cell_type": "code",
   "execution_count": 274,
   "id": "52e58dd0",
   "metadata": {},
   "outputs": [],
   "source": [
    "c = lambda *avin : ''.join([str(i) for i in avin])"
   ]
  },
  {
   "cell_type": "code",
   "execution_count": 275,
   "id": "55810fbd",
   "metadata": {},
   "outputs": [
    {
     "data": {
      "text/plain": [
       "'34534'"
      ]
     },
     "execution_count": 275,
     "metadata": {},
     "output_type": "execute_result"
    }
   ],
   "source": [
    "c(\"avin\",\"dhd\",\"rahul\")\n",
    "c(3,45,34)"
   ]
  },
  {
   "cell_type": "code",
   "execution_count": 293,
   "id": "0a5f5a6a",
   "metadata": {},
   "outputs": [],
   "source": [
    "d = lambda a,*b: print(a,b)"
   ]
  },
  {
   "cell_type": "code",
   "execution_count": 294,
   "id": "aa395558",
   "metadata": {},
   "outputs": [
    {
     "name": "stdout",
     "output_type": "stream",
     "text": [
      "34 (34, 3434)\n"
     ]
    }
   ],
   "source": [
    "d(34,34,3434)"
   ]
  },
  {
   "cell_type": "code",
   "execution_count": 322,
   "id": "e1bc9f88",
   "metadata": {},
   "outputs": [],
   "source": [
    "e = lambda **keyVal : [i for i in keyVal.values()]"
   ]
  },
  {
   "cell_type": "code",
   "execution_count": 325,
   "id": "897e35f0",
   "metadata": {},
   "outputs": [
    {
     "data": {
      "text/plain": [
       "[33, 5, 'avin', 'rahul34']"
      ]
     },
     "execution_count": 325,
     "metadata": {},
     "output_type": "execute_result"
    }
   ],
   "source": [
    "e(b=33,c=5, d=\"avin\",e = \"rahul34\")"
   ]
  },
  {
   "cell_type": "code",
   "execution_count": 379,
   "id": "8ab335d6",
   "metadata": {},
   "outputs": [],
   "source": [
    "f = lambda *arg : 'avin'.join(str(arg))"
   ]
  },
  {
   "cell_type": "code",
   "execution_count": 380,
   "id": "f7c8a707",
   "metadata": {},
   "outputs": [
    {
     "data": {
      "text/plain": [
       "\"(avin3avin4avin,avin avin'avinaavindavinfavin'avin)\""
      ]
     },
     "execution_count": 380,
     "metadata": {},
     "output_type": "execute_result"
    }
   ],
   "source": [
    "f(34,\"adf\")"
   ]
  },
  {
   "cell_type": "code",
   "execution_count": 381,
   "id": "1c6396b7",
   "metadata": {},
   "outputs": [
    {
     "data": {
      "text/plain": [
       "'(avin4avin5avin,avin)'"
      ]
     },
     "execution_count": 381,
     "metadata": {},
     "output_type": "execute_result"
    }
   ],
   "source": [
    "f(45)"
   ]
  },
  {
   "cell_type": "code",
   "execution_count": null,
   "id": "4be74e90",
   "metadata": {},
   "outputs": [],
   "source": []
  },
  {
   "cell_type": "code",
   "execution_count": null,
   "id": "1f9fa37f",
   "metadata": {},
   "outputs": [],
   "source": []
  }
 ],
 "metadata": {
  "kernelspec": {
   "display_name": "Python 3 (ipykernel)",
   "language": "python",
   "name": "python3"
  },
  "language_info": {
   "codemirror_mode": {
    "name": "ipython",
    "version": 3
   },
   "file_extension": ".py",
   "mimetype": "text/x-python",
   "name": "python",
   "nbconvert_exporter": "python",
   "pygments_lexer": "ipython3",
   "version": "3.9.7"
  }
 },
 "nbformat": 4,
 "nbformat_minor": 5
}
