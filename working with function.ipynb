{
 "cells": [
  {
   "cell_type": "code",
   "execution_count": 1,
   "id": "4628520e",
   "metadata": {},
   "outputs": [
    {
     "data": {
      "text/plain": [
       "30"
      ]
     },
     "execution_count": 1,
     "metadata": {},
     "output_type": "execute_result"
    }
   ],
   "source": [
    "a = 10 \n",
    "b= 20\n",
    "a+b"
   ]
  },
  {
   "cell_type": "code",
   "execution_count": 2,
   "id": "2e0f7342",
   "metadata": {},
   "outputs": [],
   "source": [
    "def sum1(a,b):\n",
    "    pass\n",
    "    print(a+b)\n",
    "    "
   ]
  },
  {
   "cell_type": "code",
   "execution_count": 3,
   "id": "bdb914ca",
   "metadata": {},
   "outputs": [
    {
     "name": "stdout",
     "output_type": "stream",
     "text": [
      "90\n"
     ]
    },
    {
     "data": {
      "text/plain": [
       "NoneType"
      ]
     },
     "execution_count": 3,
     "metadata": {},
     "output_type": "execute_result"
    }
   ],
   "source": [
    "type(sum1(45,45))"
   ]
  },
  {
   "cell_type": "code",
   "execution_count": 4,
   "id": "ff65f5fa",
   "metadata": {},
   "outputs": [],
   "source": [
    "def test2(s,d):\n",
    "    return(s*d)"
   ]
  },
  {
   "cell_type": "code",
   "execution_count": 5,
   "id": "810fe546",
   "metadata": {},
   "outputs": [
    {
     "data": {
      "text/plain": [
       "14"
      ]
     },
     "execution_count": 5,
     "metadata": {},
     "output_type": "execute_result"
    }
   ],
   "source": [
    "test2(4,3)+2"
   ]
  },
  {
   "cell_type": "code",
   "execution_count": 6,
   "id": "b1e5dccf",
   "metadata": {},
   "outputs": [],
   "source": [
    "def test2(t,n,m):\n",
    "    return t+n\n",
    "\n",
    "    "
   ]
  },
  {
   "cell_type": "code",
   "execution_count": 7,
   "id": "0efbaee2",
   "metadata": {},
   "outputs": [
    {
     "data": {
      "text/plain": [
       "5"
      ]
     },
     "execution_count": 7,
     "metadata": {},
     "output_type": "execute_result"
    }
   ],
   "source": [
    "test2(2,3,45)"
   ]
  },
  {
   "cell_type": "code",
   "execution_count": 8,
   "id": "fabad2f9",
   "metadata": {},
   "outputs": [],
   "source": [
    "def test3(n,m):\n",
    "    return m*10,m*40, m+n"
   ]
  },
  {
   "cell_type": "code",
   "execution_count": 9,
   "id": "3a6ad9f2",
   "metadata": {},
   "outputs": [
    {
     "data": {
      "text/plain": [
       "(40, 160, 6)"
      ]
     },
     "execution_count": 9,
     "metadata": {},
     "output_type": "execute_result"
    }
   ],
   "source": [
    "test3(2,4)"
   ]
  },
  {
   "cell_type": "code",
   "execution_count": 10,
   "id": "3fe568ea",
   "metadata": {},
   "outputs": [],
   "source": [
    "c,x,v = test3(2,4)"
   ]
  },
  {
   "cell_type": "code",
   "execution_count": 11,
   "id": "e96f9b07",
   "metadata": {},
   "outputs": [
    {
     "data": {
      "text/plain": [
       "40"
      ]
     },
     "execution_count": 11,
     "metadata": {},
     "output_type": "execute_result"
    }
   ],
   "source": [
    "c"
   ]
  },
  {
   "cell_type": "code",
   "execution_count": 12,
   "id": "6d238b98",
   "metadata": {},
   "outputs": [
    {
     "data": {
      "text/plain": [
       "160"
      ]
     },
     "execution_count": 12,
     "metadata": {},
     "output_type": "execute_result"
    }
   ],
   "source": [
    "x"
   ]
  },
  {
   "cell_type": "code",
   "execution_count": 13,
   "id": "e8a6321b",
   "metadata": {},
   "outputs": [
    {
     "data": {
      "text/plain": [
       "6"
      ]
     },
     "execution_count": 13,
     "metadata": {},
     "output_type": "execute_result"
    }
   ],
   "source": [
    "v"
   ]
  },
  {
   "cell_type": "code",
   "execution_count": 14,
   "id": "e29bbb22",
   "metadata": {},
   "outputs": [],
   "source": [
    "c, x, _ = test3(2,4)"
   ]
  },
  {
   "cell_type": "code",
   "execution_count": 15,
   "id": "d6c56733",
   "metadata": {},
   "outputs": [
    {
     "data": {
      "text/plain": [
       "40"
      ]
     },
     "execution_count": 15,
     "metadata": {},
     "output_type": "execute_result"
    }
   ],
   "source": [
    "c"
   ]
  },
  {
   "cell_type": "code",
   "execution_count": 16,
   "id": "3d1cab92",
   "metadata": {},
   "outputs": [
    {
     "data": {
      "text/plain": [
       "160"
      ]
     },
     "execution_count": 16,
     "metadata": {},
     "output_type": "execute_result"
    }
   ],
   "source": [
    "x"
   ]
  },
  {
   "cell_type": "code",
   "execution_count": 17,
   "id": "c8531a45",
   "metadata": {},
   "outputs": [
    {
     "data": {
      "text/plain": [
       "160"
      ]
     },
     "execution_count": 17,
     "metadata": {},
     "output_type": "execute_result"
    }
   ],
   "source": [
    "_"
   ]
  },
  {
   "cell_type": "code",
   "execution_count": 18,
   "id": "b1c19ab6",
   "metadata": {},
   "outputs": [],
   "source": [
    "_, _,m  = test3(2,4)"
   ]
  },
  {
   "cell_type": "code",
   "execution_count": 19,
   "id": "f0ed457f",
   "metadata": {},
   "outputs": [
    {
     "data": {
      "text/plain": [
       "160"
      ]
     },
     "execution_count": 19,
     "metadata": {},
     "output_type": "execute_result"
    }
   ],
   "source": [
    "_\n"
   ]
  },
  {
   "cell_type": "code",
   "execution_count": 20,
   "id": "7fa66627",
   "metadata": {},
   "outputs": [
    {
     "data": {
      "text/plain": [
       "6"
      ]
     },
     "execution_count": 20,
     "metadata": {},
     "output_type": "execute_result"
    }
   ],
   "source": [
    "m"
   ]
  },
  {
   "cell_type": "code",
   "execution_count": 21,
   "id": "9914ef8e",
   "metadata": {},
   "outputs": [
    {
     "data": {
      "text/plain": [
       "6"
      ]
     },
     "execution_count": 21,
     "metadata": {},
     "output_type": "execute_result"
    }
   ],
   "source": [
    "_"
   ]
  },
  {
   "cell_type": "code",
   "execution_count": 22,
   "id": "60ea213e",
   "metadata": {},
   "outputs": [
    {
     "data": {
      "text/plain": [
       "6"
      ]
     },
     "execution_count": 22,
     "metadata": {},
     "output_type": "execute_result"
    }
   ],
   "source": [
    "_"
   ]
  },
  {
   "cell_type": "code",
   "execution_count": 23,
   "id": "9aeef1bd",
   "metadata": {},
   "outputs": [],
   "source": [
    "def t():\n",
    "    print(\"this is me\")"
   ]
  },
  {
   "cell_type": "code",
   "execution_count": 24,
   "id": "490aed2b",
   "metadata": {},
   "outputs": [
    {
     "name": "stdout",
     "output_type": "stream",
     "text": [
      "this is me\n"
     ]
    }
   ],
   "source": [
    "m = t()"
   ]
  },
  {
   "cell_type": "code",
   "execution_count": 25,
   "id": "921c60ba",
   "metadata": {},
   "outputs": [
    {
     "ename": "TypeError",
     "evalue": "unsupported operand type(s) for +: 'NoneType' and 'str'",
     "output_type": "error",
     "traceback": [
      "\u001b[0;31m---------------------------------------------------------------------------\u001b[0m",
      "\u001b[0;31mTypeError\u001b[0m                                 Traceback (most recent call last)",
      "\u001b[0;32m/var/folders/hs/tkrh5wv51hl9c769tvsw6bc00000gn/T/ipykernel_2178/2840313457.py\u001b[0m in \u001b[0;36m<module>\u001b[0;34m\u001b[0m\n\u001b[0;32m----> 1\u001b[0;31m \u001b[0mm\u001b[0m\u001b[0;34m+\u001b[0m \u001b[0;34m\"adfdfd\"\u001b[0m\u001b[0;34m\u001b[0m\u001b[0;34m\u001b[0m\u001b[0m\n\u001b[0m",
      "\u001b[0;31mTypeError\u001b[0m: unsupported operand type(s) for +: 'NoneType' and 'str'"
     ]
    }
   ],
   "source": [
    "m+ \"adfdfd\""
   ]
  },
  {
   "cell_type": "code",
   "execution_count": null,
   "id": "0151017c",
   "metadata": {},
   "outputs": [],
   "source": [
    "def p():\n",
    "    return(\"this is me \")\n",
    "    "
   ]
  },
  {
   "cell_type": "code",
   "execution_count": null,
   "id": "b562dfe3",
   "metadata": {},
   "outputs": [],
   "source": [
    "p() + \"avinash\""
   ]
  },
  {
   "cell_type": "code",
   "execution_count": null,
   "id": "bc75cd3d",
   "metadata": {},
   "outputs": [],
   "source": [
    "def test8(n):\n",
    "    return(n,n*2)"
   ]
  },
  {
   "cell_type": "code",
   "execution_count": null,
   "id": "ade1e890",
   "metadata": {},
   "outputs": [],
   "source": [
    "b =test8([3,34,34,23,23])"
   ]
  },
  {
   "cell_type": "code",
   "execution_count": null,
   "id": "26e51e76",
   "metadata": {},
   "outputs": [],
   "source": [
    "test8(67)"
   ]
  },
  {
   "cell_type": "code",
   "execution_count": null,
   "id": "51ad7a10",
   "metadata": {},
   "outputs": [],
   "source": [
    "b[0][1]"
   ]
  },
  {
   "cell_type": "code",
   "execution_count": null,
   "id": "72bfb817",
   "metadata": {},
   "outputs": [],
   "source": [
    "b[1][3]"
   ]
  },
  {
   "cell_type": "code",
   "execution_count": null,
   "id": "a12faab2",
   "metadata": {},
   "outputs": [],
   "source": [
    "b[1]"
   ]
  },
  {
   "cell_type": "code",
   "execution_count": null,
   "id": "8a1c9751",
   "metadata": {},
   "outputs": [],
   "source": [
    "b"
   ]
  },
  {
   "cell_type": "code",
   "execution_count": null,
   "id": "e072eff8",
   "metadata": {},
   "outputs": [],
   "source": [
    "def test10(n,m=10):\n",
    "    return(n+m)"
   ]
  },
  {
   "cell_type": "code",
   "execution_count": null,
   "id": "a000c7db",
   "metadata": {},
   "outputs": [],
   "source": [
    "test10(4,5)"
   ]
  },
  {
   "cell_type": "markdown",
   "id": "76fc394f",
   "metadata": {},
   "source": [
    "#return type return same type but print funtion return nonetye."
   ]
  },
  {
   "cell_type": "code",
   "execution_count": null,
   "id": "b50a97dd",
   "metadata": {},
   "outputs": [],
   "source": [
    "def boolx(x = True, y = False):\n",
    "    return x + y"
   ]
  },
  {
   "cell_type": "code",
   "execution_count": null,
   "id": "63a20164",
   "metadata": {},
   "outputs": [],
   "source": [
    "boolx()"
   ]
  },
  {
   "cell_type": "code",
   "execution_count": null,
   "id": "a00f9157",
   "metadata": {},
   "outputs": [],
   "source": [
    "boolx(False,8)"
   ]
  },
  {
   "cell_type": "code",
   "execution_count": null,
   "id": "34735310",
   "metadata": {},
   "outputs": [],
   "source": [
    "boolx(False)"
   ]
  },
  {
   "cell_type": "code",
   "execution_count": null,
   "id": "2def5a9e",
   "metadata": {},
   "outputs": [],
   "source": [
    "def travel(bike= True, car = False):\n",
    "    plan_travel = bike or car\n",
    "    return bike , car, plan_travel"
   ]
  },
  {
   "cell_type": "code",
   "execution_count": null,
   "id": "a89ba892",
   "metadata": {},
   "outputs": [],
   "source": [
    "travel()"
   ]
  },
  {
   "cell_type": "code",
   "execution_count": null,
   "id": "33fc7bc9",
   "metadata": {},
   "outputs": [],
   "source": [
    "travel(car = True)"
   ]
  },
  {
   "cell_type": "code",
   "execution_count": null,
   "id": "af3d8c3a",
   "metadata": {},
   "outputs": [],
   "source": [
    "travel(_,True)"
   ]
  },
  {
   "cell_type": "code",
   "execution_count": 28,
   "id": "aef81947",
   "metadata": {},
   "outputs": [],
   "source": [
    "def test11(*arg):\n",
    "    return arg"
   ]
  },
  {
   "cell_type": "code",
   "execution_count": 29,
   "id": "563ce741",
   "metadata": {},
   "outputs": [
    {
     "data": {
      "text/plain": [
       "('avinash', 'kumar', 34, [45, 34, 2, 2, 4, 46, 4])"
      ]
     },
     "execution_count": 29,
     "metadata": {},
     "output_type": "execute_result"
    }
   ],
   "source": [
    "test11(\"avinash\",\"kumar\",34,[45,34,2,2,4,46,4])"
   ]
  },
  {
   "cell_type": "code",
   "execution_count": 74,
   "id": "b035799f",
   "metadata": {},
   "outputs": [],
   "source": [
    "b = lambda *arg : [i for i in arg]"
   ]
  },
  {
   "cell_type": "code",
   "execution_count": 75,
   "id": "f03a4035",
   "metadata": {},
   "outputs": [
    {
     "data": {
      "text/plain": [
       "[[23, 23, 12], [23, 32], [34, 23]]"
      ]
     },
     "execution_count": 75,
     "metadata": {},
     "output_type": "execute_result"
    }
   ],
   "source": [
    "b([23,23,12],[23,32],[34,23])"
   ]
  },
  {
   "cell_type": "code",
   "execution_count": 76,
   "id": "cf11d559",
   "metadata": {},
   "outputs": [
    {
     "data": {
      "text/plain": [
       "['dfdfdf', 343, [34, 23, 1, 2, 4], [4, 53, 2, 32, 2]]"
      ]
     },
     "execution_count": 76,
     "metadata": {},
     "output_type": "execute_result"
    }
   ],
   "source": [
    "b(\"dfdfdf\",343,[34,23,1,2,4],[4,53,2,32,2])"
   ]
  },
  {
   "cell_type": "code",
   "execution_count": null,
   "id": "b1226dbc",
   "metadata": {},
   "outputs": [],
   "source": []
  },
  {
   "cell_type": "code",
   "execution_count": 101,
   "id": "c58a6f01",
   "metadata": {},
   "outputs": [],
   "source": [
    "def test15(*args):\n",
    "    l = []\n",
    "    for i in args:\n",
    "        if type(i) ==list:\n",
    "            l= l+i\n",
    "    return(l)   "
   ]
  },
  {
   "cell_type": "code",
   "execution_count": 102,
   "id": "d6a6d4a8",
   "metadata": {},
   "outputs": [
    {
     "data": {
      "text/plain": [
       "[12, 2, 3, 4, 4, 3, 34, 2, 4, 3, 7, 8, 89, 4]"
      ]
     },
     "execution_count": 102,
     "metadata": {},
     "output_type": "execute_result"
    }
   ],
   "source": [
    "test15([12,2,3,4,4],[3,34,2,4,3],[7,8,89,4])"
   ]
  },
  {
   "cell_type": "code",
   "execution_count": 103,
   "id": "851a8ea6",
   "metadata": {},
   "outputs": [
    {
     "data": {
      "text/plain": [
       "[12, 2, 3, 4, 4, 3, 34, 2, 4, 3]"
      ]
     },
     "execution_count": 103,
     "metadata": {},
     "output_type": "execute_result"
    }
   ],
   "source": [
    "test15(\"avin\",[12,2,3,4,4],[3,34,2,4,3])"
   ]
  },
  {
   "cell_type": "code",
   "execution_count": 113,
   "id": "d02bc26e",
   "metadata": {},
   "outputs": [],
   "source": [
    "def test16(**kwargs):\n",
    "    return kwargs"
   ]
  },
  {
   "cell_type": "code",
   "execution_count": 120,
   "id": "df21d349",
   "metadata": {},
   "outputs": [
    {
     "data": {
      "text/plain": [
       "{'name': 'avin', 'stack': 'pyhton', 'lang': ['pyhton, ML']}"
      ]
     },
     "execution_count": 120,
     "metadata": {},
     "output_type": "execute_result"
    }
   ],
   "source": [
    "test16(name=\"avin\", stack = \"pyhton\", lang = [\"pyhton, ML\"])"
   ]
  },
  {
   "cell_type": "code",
   "execution_count": null,
   "id": "39edc63f",
   "metadata": {},
   "outputs": [],
   "source": []
  },
  {
   "cell_type": "code",
   "execution_count": null,
   "id": "6b4c449a",
   "metadata": {},
   "outputs": [],
   "source": [
    "1.  creat  a function to take a mixed no int, str, create a,list,\n",
    "  of seperate data type and return multiple."
   ]
  },
  {
   "cell_type": "code",
   "execution_count": 187,
   "id": "7acc74a7",
   "metadata": {},
   "outputs": [],
   "source": [
    "l,m,n=[],[],[]\n",
    "def seperate(*arg):\n",
    "    for i in arg:\n",
    "        if type(i)== int:\n",
    "            l.append(i)\n",
    "        elif type(i)==str:\n",
    "            m.append(i)\n",
    "        elif type(i)==float:\n",
    "            n.append(i)\n",
    "            \n",
    "    return l,m,n\n",
    "      \n",
    "    \n",
    "    \n",
    "           \n",
    "    \n",
    "    "
   ]
  },
  {
   "cell_type": "code",
   "execution_count": 188,
   "id": "73a6b1c7",
   "metadata": {},
   "outputs": [
    {
     "data": {
      "text/plain": [
       "([34, 34, 2312, 12, 23], ['adf', 'avin'], [34.23, 1.3])"
      ]
     },
     "execution_count": 188,
     "metadata": {},
     "output_type": "execute_result"
    }
   ],
   "source": [
    "seperate(\"adf\",\"avin\",34,34,2312,12,34.23,23,1.3)"
   ]
  },
  {
   "cell_type": "code",
   "execution_count": 189,
   "id": "de065e3d",
   "metadata": {},
   "outputs": [
    {
     "data": {
      "text/plain": [
       "[34, 34, 2312, 12, 23]"
      ]
     },
     "execution_count": 189,
     "metadata": {},
     "output_type": "execute_result"
    }
   ],
   "source": [
    "l"
   ]
  },
  {
   "cell_type": "code",
   "execution_count": 190,
   "id": "3fe4d430",
   "metadata": {},
   "outputs": [
    {
     "data": {
      "text/plain": [
       "['adf', 'avin']"
      ]
     },
     "execution_count": 190,
     "metadata": {},
     "output_type": "execute_result"
    }
   ],
   "source": [
    "m"
   ]
  },
  {
   "cell_type": "code",
   "execution_count": 191,
   "id": "16bd2cf1",
   "metadata": {},
   "outputs": [
    {
     "data": {
      "text/plain": [
       "[34.23, 1.3]"
      ]
     },
     "execution_count": 191,
     "metadata": {},
     "output_type": "execute_result"
    }
   ],
   "source": [
    "n"
   ]
  },
  {
   "cell_type": "code",
   "execution_count": null,
   "id": "f0b91670",
   "metadata": {},
   "outputs": [],
   "source": [
    "2.  create a function which will be able to use *args \n",
    "    and *kwargs and it will be able to do all the list\n",
    "    value concatination and return list."
   ]
  },
  {
   "cell_type": "code",
   "execution_count": 197,
   "id": "78f38d9b",
   "metadata": {},
   "outputs": [],
   "source": [
    "def test_fun(*args,**kwargs):\n",
    "    l = [i for i in args if type(i)==list]\n",
    "    d = [i[1] for i in kwargs.items() if type(i[1]==list)]\n",
    "    return l,d"
   ]
  },
  {
   "cell_type": "code",
   "execution_count": 198,
   "id": "6876826c",
   "metadata": {},
   "outputs": [
    {
     "data": {
      "text/plain": [
       "([[5, 4, 5, 3], [34, 23, 2, 3]], [4, 'avin', 5, [3, 45, 6]])"
      ]
     },
     "execution_count": 198,
     "metadata": {},
     "output_type": "execute_result"
    }
   ],
   "source": [
    "test_fun([5,4,5,3],[34,23,2,3],45,56,3,4,a=4,c= \"avin\",b=5,m=[3,45,6])"
   ]
  },
  {
   "cell_type": "code",
   "execution_count": 224,
   "id": "625b4692",
   "metadata": {},
   "outputs": [],
   "source": [
    "def test18(**kwargs):\n",
    "    for i in kwargs.items():\n",
    "        if type(i[1])== list :\n",
    "            if \"sudh\"in i[1]:\n",
    "                print(\"i am able to find name in input data\")\n",
    "                print(i[1])\n",
    "    return kwargs"
   ]
  },
  {
   "cell_type": "code",
   "execution_count": 225,
   "id": "ffe53658",
   "metadata": {},
   "outputs": [
    {
     "name": "stdout",
     "output_type": "stream",
     "text": [
      "i am able to find name in input data\n",
      "['avin', 'sudh', 45.34]\n"
     ]
    },
    {
     "data": {
      "text/plain": [
       "{'b': 6, 'c': [24, 34, 23], 'd': ['avin', 'sudh', 45.34], 'n': (6+5j)}"
      ]
     },
     "execution_count": 225,
     "metadata": {},
     "output_type": "execute_result"
    }
   ],
   "source": [
    "test18(b=6,c=[24,34,23],d =[\"avin\",\"sudh\",45.34],n = 6+5j)"
   ]
  },
  {
   "cell_type": "code",
   "execution_count": 233,
   "id": "0f649888",
   "metadata": {},
   "outputs": [],
   "source": [
    "def func1(*args):\n",
    "    dt ={}\n",
    "    for i in args:\n",
    "        if type(i) in dt:\n",
    "            dt[type(i)].append(i)\n",
    "        else:\n",
    "            dt[type(i)] = [i]\n",
    "    return dt    "
   ]
  },
  {
   "cell_type": "code",
   "execution_count": 234,
   "id": "0f4b39c2",
   "metadata": {},
   "outputs": [
    {
     "data": {
      "text/plain": [
       "{int: [1, 2, 3], list: [[5, 56, 4, 3]], str: ['hi', 'io'], complex: [(6+5j)]}"
      ]
     },
     "execution_count": 234,
     "metadata": {},
     "output_type": "execute_result"
    }
   ],
   "source": [
    "func1(1,2,3,[5,56,4,3],\"hi\",\"io\",6+5j)"
   ]
  },
  {
   "cell_type": "code",
   "execution_count": null,
   "id": "defb7c14",
   "metadata": {},
   "outputs": [],
   "source": []
  },
  {
   "cell_type": "code",
   "execution_count": null,
   "id": "c40b22ae",
   "metadata": {},
   "outputs": [],
   "source": []
  },
  {
   "cell_type": "code",
   "execution_count": null,
   "id": "e6997c50",
   "metadata": {},
   "outputs": [],
   "source": []
  },
  {
   "cell_type": "code",
   "execution_count": null,
   "id": "5f0b6958",
   "metadata": {},
   "outputs": [],
   "source": []
  },
  {
   "cell_type": "code",
   "execution_count": null,
   "id": "7a57f842",
   "metadata": {},
   "outputs": [],
   "source": []
  },
  {
   "cell_type": "code",
   "execution_count": null,
   "id": "b000e390",
   "metadata": {},
   "outputs": [],
   "source": []
  }
 ],
 "metadata": {
  "kernelspec": {
   "display_name": "Python 3 (ipykernel)",
   "language": "python",
   "name": "python3"
  },
  "language_info": {
   "codemirror_mode": {
    "name": "ipython",
    "version": 3
   },
   "file_extension": ".py",
   "mimetype": "text/x-python",
   "name": "python",
   "nbconvert_exporter": "python",
   "pygments_lexer": "ipython3",
   "version": "3.9.7"
  }
 },
 "nbformat": 4,
 "nbformat_minor": 5
}
